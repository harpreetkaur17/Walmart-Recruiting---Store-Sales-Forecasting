{
 "cells": [
  {
   "cell_type": "code",
   "execution_count": 1,
   "metadata": {},
   "outputs": [],
   "source": [
    "import pandas as pd\n",
    "import numpy as np\n",
    "import matplotlib.pyplot as plt\n",
    "import seaborn as sns\n",
    "from sklearn.utils import shuffle\n",
    "## applying Grid Search\n",
    "from sklearn.model_selection import GridSearchCV\n",
    "\n",
    "## To split datasets in training and testing \n",
    "from sklearn.model_selection import train_test_split\n",
    "\n",
    "## applying diff model to test\n",
    "from sklearn.linear_model import LinearRegression\n",
    "from sklearn.neighbors import KNeighborsRegressor\n",
    "from sklearn.ensemble import RandomForestRegressor\n",
    "from sklearn.tree import DecisionTreeRegressor\n",
    "\n",
    "\n",
    "## correctness of each model\n",
    "from sklearn.metrics import mean_squared_error\n",
    "from sklearn.metrics import mean_absolute_error\n",
    "from sklearn.metrics import r2_score\n",
    "\n",
    "## to implement K-Fold\n",
    "from sklearn.model_selection import KFold\n",
    "#from sklearn.cross_validation import KFold\n",
    "from sklearn import model_selection\n",
    "\n",
    "## To Treat Categorial variables\n",
    "from sklearn.preprocessing import LabelEncoder\n",
    "from sklearn.preprocessing import OneHotEncoder\n",
    "\n",
    "\n",
    "## To standardize the variables\n",
    "from sklearn.preprocessing import StandardScaler\n",
    "\n",
    "from scipy.stats import zscore "
   ]
  },
  {
   "cell_type": "code",
   "execution_count": 2,
   "metadata": {},
   "outputs": [],
   "source": [
    "data=pd.read_csv(\"data.csv\")\n"
   ]
  },
  {
   "cell_type": "code",
   "execution_count": 3,
   "metadata": {},
   "outputs": [
    {
     "data": {
      "text/html": [
       "<div>\n",
       "<style scoped>\n",
       "    .dataframe tbody tr th:only-of-type {\n",
       "        vertical-align: middle;\n",
       "    }\n",
       "\n",
       "    .dataframe tbody tr th {\n",
       "        vertical-align: top;\n",
       "    }\n",
       "\n",
       "    .dataframe thead th {\n",
       "        text-align: right;\n",
       "    }\n",
       "</style>\n",
       "<table border=\"1\" class=\"dataframe\">\n",
       "  <thead>\n",
       "    <tr style=\"text-align: right;\">\n",
       "      <th></th>\n",
       "      <th>Unnamed: 0</th>\n",
       "      <th>Store</th>\n",
       "      <th>Dept</th>\n",
       "      <th>Date</th>\n",
       "      <th>Weekly_Sales</th>\n",
       "      <th>IsHoliday</th>\n",
       "      <th>Temperature</th>\n",
       "      <th>Fuel_Price</th>\n",
       "      <th>MarkDown1</th>\n",
       "      <th>MarkDown2</th>\n",
       "      <th>MarkDown3</th>\n",
       "      <th>MarkDown4</th>\n",
       "      <th>MarkDown5</th>\n",
       "      <th>CPI</th>\n",
       "      <th>Unemployment</th>\n",
       "      <th>Type</th>\n",
       "      <th>Size</th>\n",
       "      <th>Week</th>\n",
       "      <th>Month</th>\n",
       "      <th>Year</th>\n",
       "    </tr>\n",
       "  </thead>\n",
       "  <tbody>\n",
       "    <tr>\n",
       "      <td>0</td>\n",
       "      <td>133138</td>\n",
       "      <td>14</td>\n",
       "      <td>7</td>\n",
       "      <td>2011-06-24</td>\n",
       "      <td>63107.13</td>\n",
       "      <td>False</td>\n",
       "      <td>74.85</td>\n",
       "      <td>3.804</td>\n",
       "      <td>NaN</td>\n",
       "      <td>NaN</td>\n",
       "      <td>NaN</td>\n",
       "      <td>NaN</td>\n",
       "      <td>NaN</td>\n",
       "      <td>185.791961</td>\n",
       "      <td>8.521</td>\n",
       "      <td>A</td>\n",
       "      <td>200898</td>\n",
       "      <td>25</td>\n",
       "      <td>6</td>\n",
       "      <td>2011</td>\n",
       "    </tr>\n",
       "    <tr>\n",
       "      <td>1</td>\n",
       "      <td>392600</td>\n",
       "      <td>42</td>\n",
       "      <td>3</td>\n",
       "      <td>2010-09-24</td>\n",
       "      <td>653.36</td>\n",
       "      <td>False</td>\n",
       "      <td>85.75</td>\n",
       "      <td>2.939</td>\n",
       "      <td>NaN</td>\n",
       "      <td>NaN</td>\n",
       "      <td>NaN</td>\n",
       "      <td>NaN</td>\n",
       "      <td>NaN</td>\n",
       "      <td>126.190033</td>\n",
       "      <td>9.199</td>\n",
       "      <td>C</td>\n",
       "      <td>39690</td>\n",
       "      <td>38</td>\n",
       "      <td>9</td>\n",
       "      <td>2010</td>\n",
       "    </tr>\n",
       "    <tr>\n",
       "      <td>2</td>\n",
       "      <td>299827</td>\n",
       "      <td>31</td>\n",
       "      <td>20</td>\n",
       "      <td>2011-09-30</td>\n",
       "      <td>5573.33</td>\n",
       "      <td>False</td>\n",
       "      <td>78.91</td>\n",
       "      <td>3.355</td>\n",
       "      <td>NaN</td>\n",
       "      <td>NaN</td>\n",
       "      <td>NaN</td>\n",
       "      <td>NaN</td>\n",
       "      <td>NaN</td>\n",
       "      <td>216.362033</td>\n",
       "      <td>7.852</td>\n",
       "      <td>A</td>\n",
       "      <td>203750</td>\n",
       "      <td>39</td>\n",
       "      <td>9</td>\n",
       "      <td>2011</td>\n",
       "    </tr>\n",
       "    <tr>\n",
       "      <td>3</td>\n",
       "      <td>140438</td>\n",
       "      <td>15</td>\n",
       "      <td>42</td>\n",
       "      <td>2010-09-24</td>\n",
       "      <td>3758.80</td>\n",
       "      <td>False</td>\n",
       "      <td>62.53</td>\n",
       "      <td>2.837</td>\n",
       "      <td>NaN</td>\n",
       "      <td>NaN</td>\n",
       "      <td>NaN</td>\n",
       "      <td>NaN</td>\n",
       "      <td>NaN</td>\n",
       "      <td>132.761933</td>\n",
       "      <td>8.099</td>\n",
       "      <td>B</td>\n",
       "      <td>123737</td>\n",
       "      <td>38</td>\n",
       "      <td>9</td>\n",
       "      <td>2010</td>\n",
       "    </tr>\n",
       "    <tr>\n",
       "      <td>4</td>\n",
       "      <td>344381</td>\n",
       "      <td>36</td>\n",
       "      <td>92</td>\n",
       "      <td>2011-11-25</td>\n",
       "      <td>37943.06</td>\n",
       "      <td>True</td>\n",
       "      <td>66.41</td>\n",
       "      <td>3.181</td>\n",
       "      <td>7.09</td>\n",
       "      <td>NaN</td>\n",
       "      <td>NaN</td>\n",
       "      <td>NaN</td>\n",
       "      <td>780.75</td>\n",
       "      <td>217.181253</td>\n",
       "      <td>7.716</td>\n",
       "      <td>A</td>\n",
       "      <td>39910</td>\n",
       "      <td>47</td>\n",
       "      <td>11</td>\n",
       "      <td>2011</td>\n",
       "    </tr>\n",
       "    <tr>\n",
       "      <td>...</td>\n",
       "      <td>...</td>\n",
       "      <td>...</td>\n",
       "      <td>...</td>\n",
       "      <td>...</td>\n",
       "      <td>...</td>\n",
       "      <td>...</td>\n",
       "      <td>...</td>\n",
       "      <td>...</td>\n",
       "      <td>...</td>\n",
       "      <td>...</td>\n",
       "      <td>...</td>\n",
       "      <td>...</td>\n",
       "      <td>...</td>\n",
       "      <td>...</td>\n",
       "      <td>...</td>\n",
       "      <td>...</td>\n",
       "      <td>...</td>\n",
       "      <td>...</td>\n",
       "      <td>...</td>\n",
       "      <td>...</td>\n",
       "    </tr>\n",
       "    <tr>\n",
       "      <td>421565</td>\n",
       "      <td>243259</td>\n",
       "      <td>25</td>\n",
       "      <td>4</td>\n",
       "      <td>2011-10-28</td>\n",
       "      <td>21337.11</td>\n",
       "      <td>False</td>\n",
       "      <td>46.28</td>\n",
       "      <td>3.569</td>\n",
       "      <td>NaN</td>\n",
       "      <td>NaN</td>\n",
       "      <td>NaN</td>\n",
       "      <td>NaN</td>\n",
       "      <td>NaN</td>\n",
       "      <td>210.691890</td>\n",
       "      <td>7.082</td>\n",
       "      <td>B</td>\n",
       "      <td>128107</td>\n",
       "      <td>43</td>\n",
       "      <td>10</td>\n",
       "      <td>2011</td>\n",
       "    </tr>\n",
       "    <tr>\n",
       "      <td>421566</td>\n",
       "      <td>7193</td>\n",
       "      <td>1</td>\n",
       "      <td>26</td>\n",
       "      <td>2012-01-06</td>\n",
       "      <td>4220.51</td>\n",
       "      <td>False</td>\n",
       "      <td>49.01</td>\n",
       "      <td>3.157</td>\n",
       "      <td>6277.39</td>\n",
       "      <td>21813.16</td>\n",
       "      <td>143.1</td>\n",
       "      <td>1450.13</td>\n",
       "      <td>8483.00</td>\n",
       "      <td>219.714258</td>\n",
       "      <td>7.348</td>\n",
       "      <td>A</td>\n",
       "      <td>151315</td>\n",
       "      <td>1</td>\n",
       "      <td>1</td>\n",
       "      <td>2012</td>\n",
       "    </tr>\n",
       "    <tr>\n",
       "      <td>421567</td>\n",
       "      <td>411233</td>\n",
       "      <td>44</td>\n",
       "      <td>92</td>\n",
       "      <td>2012-07-27</td>\n",
       "      <td>42308.76</td>\n",
       "      <td>False</td>\n",
       "      <td>80.42</td>\n",
       "      <td>3.537</td>\n",
       "      <td>30.51</td>\n",
       "      <td>NaN</td>\n",
       "      <td>NaN</td>\n",
       "      <td>0.41</td>\n",
       "      <td>1736.91</td>\n",
       "      <td>130.719581</td>\n",
       "      <td>5.407</td>\n",
       "      <td>C</td>\n",
       "      <td>39910</td>\n",
       "      <td>30</td>\n",
       "      <td>7</td>\n",
       "      <td>2012</td>\n",
       "    </tr>\n",
       "    <tr>\n",
       "      <td>421568</td>\n",
       "      <td>192924</td>\n",
       "      <td>20</td>\n",
       "      <td>34</td>\n",
       "      <td>2011-08-05</td>\n",
       "      <td>26754.53</td>\n",
       "      <td>False</td>\n",
       "      <td>77.80</td>\n",
       "      <td>3.842</td>\n",
       "      <td>NaN</td>\n",
       "      <td>NaN</td>\n",
       "      <td>NaN</td>\n",
       "      <td>NaN</td>\n",
       "      <td>NaN</td>\n",
       "      <td>208.719238</td>\n",
       "      <td>7.274</td>\n",
       "      <td>A</td>\n",
       "      <td>203742</td>\n",
       "      <td>31</td>\n",
       "      <td>8</td>\n",
       "      <td>2011</td>\n",
       "    </tr>\n",
       "    <tr>\n",
       "      <td>421569</td>\n",
       "      <td>129620</td>\n",
       "      <td>14</td>\n",
       "      <td>56</td>\n",
       "      <td>2010-07-02</td>\n",
       "      <td>6295.32</td>\n",
       "      <td>False</td>\n",
       "      <td>76.61</td>\n",
       "      <td>2.815</td>\n",
       "      <td>NaN</td>\n",
       "      <td>NaN</td>\n",
       "      <td>NaN</td>\n",
       "      <td>NaN</td>\n",
       "      <td>NaN</td>\n",
       "      <td>182.318780</td>\n",
       "      <td>8.743</td>\n",
       "      <td>A</td>\n",
       "      <td>200898</td>\n",
       "      <td>26</td>\n",
       "      <td>7</td>\n",
       "      <td>2010</td>\n",
       "    </tr>\n",
       "  </tbody>\n",
       "</table>\n",
       "<p>421570 rows × 20 columns</p>\n",
       "</div>"
      ],
      "text/plain": [
       "        Unnamed: 0  Store  Dept        Date  Weekly_Sales  IsHoliday  \\\n",
       "0           133138     14     7  2011-06-24      63107.13      False   \n",
       "1           392600     42     3  2010-09-24        653.36      False   \n",
       "2           299827     31    20  2011-09-30       5573.33      False   \n",
       "3           140438     15    42  2010-09-24       3758.80      False   \n",
       "4           344381     36    92  2011-11-25      37943.06       True   \n",
       "...            ...    ...   ...         ...           ...        ...   \n",
       "421565      243259     25     4  2011-10-28      21337.11      False   \n",
       "421566        7193      1    26  2012-01-06       4220.51      False   \n",
       "421567      411233     44    92  2012-07-27      42308.76      False   \n",
       "421568      192924     20    34  2011-08-05      26754.53      False   \n",
       "421569      129620     14    56  2010-07-02       6295.32      False   \n",
       "\n",
       "        Temperature  Fuel_Price  MarkDown1  MarkDown2  MarkDown3  MarkDown4  \\\n",
       "0             74.85       3.804        NaN        NaN        NaN        NaN   \n",
       "1             85.75       2.939        NaN        NaN        NaN        NaN   \n",
       "2             78.91       3.355        NaN        NaN        NaN        NaN   \n",
       "3             62.53       2.837        NaN        NaN        NaN        NaN   \n",
       "4             66.41       3.181       7.09        NaN        NaN        NaN   \n",
       "...             ...         ...        ...        ...        ...        ...   \n",
       "421565        46.28       3.569        NaN        NaN        NaN        NaN   \n",
       "421566        49.01       3.157    6277.39   21813.16      143.1    1450.13   \n",
       "421567        80.42       3.537      30.51        NaN        NaN       0.41   \n",
       "421568        77.80       3.842        NaN        NaN        NaN        NaN   \n",
       "421569        76.61       2.815        NaN        NaN        NaN        NaN   \n",
       "\n",
       "        MarkDown5         CPI  Unemployment Type    Size  Week  Month  Year  \n",
       "0             NaN  185.791961         8.521    A  200898    25      6  2011  \n",
       "1             NaN  126.190033         9.199    C   39690    38      9  2010  \n",
       "2             NaN  216.362033         7.852    A  203750    39      9  2011  \n",
       "3             NaN  132.761933         8.099    B  123737    38      9  2010  \n",
       "4          780.75  217.181253         7.716    A   39910    47     11  2011  \n",
       "...           ...         ...           ...  ...     ...   ...    ...   ...  \n",
       "421565        NaN  210.691890         7.082    B  128107    43     10  2011  \n",
       "421566    8483.00  219.714258         7.348    A  151315     1      1  2012  \n",
       "421567    1736.91  130.719581         5.407    C   39910    30      7  2012  \n",
       "421568        NaN  208.719238         7.274    A  203742    31      8  2011  \n",
       "421569        NaN  182.318780         8.743    A  200898    26      7  2010  \n",
       "\n",
       "[421570 rows x 20 columns]"
      ]
     },
     "execution_count": 3,
     "metadata": {},
     "output_type": "execute_result"
    }
   ],
   "source": [
    "data"
   ]
  },
  {
   "cell_type": "code",
   "execution_count": 4,
   "metadata": {},
   "outputs": [],
   "source": [
    "data['IsHoliday']=np.where(data['IsHoliday'],1,0)"
   ]
  },
  {
   "cell_type": "code",
   "execution_count": 5,
   "metadata": {},
   "outputs": [],
   "source": [
    "data=pd.get_dummies(data)"
   ]
  },
  {
   "cell_type": "code",
   "execution_count": 62,
   "metadata": {},
   "outputs": [],
   "source": [
    "##data=data.drop(['Temperature','Date','Unemployment','CPI','Fuel_Price','MarkDown1','MarkDown2','MarkDown3','MarkDown4','MarkDown5',],axis=1)"
   ]
  },
  {
   "cell_type": "code",
   "execution_count": 6,
   "metadata": {},
   "outputs": [],
   "source": [
    "X=data[['Store','Dept','IsHoliday','Size','Week','Type_A','Type_B','Type_C']]\n"
   ]
  },
  {
   "cell_type": "code",
   "execution_count": 7,
   "metadata": {},
   "outputs": [],
   "source": [
    "y=data['Weekly_Sales']"
   ]
  },
  {
   "cell_type": "code",
   "execution_count": 8,
   "metadata": {},
   "outputs": [],
   "source": [
    "scaler = StandardScaler()\n",
    "X_scales = scaler.fit_transform(X)\n",
    "X_scales=pd.DataFrame(X_scales,columns=['Store','Dept','IsHoliday','Size','Week','Type_A','Type_B','Type_C'])"
   ]
  },
  {
   "cell_type": "code",
   "execution_count": 9,
   "metadata": {},
   "outputs": [],
   "source": [
    "X_train, X_test , y_train , y_test = train_test_split(X_scales,y,test_size=0.25 , random_state=10)"
   ]
  },
  {
   "cell_type": "markdown",
   "metadata": {},
   "source": [
    "## checking model using KNN"
   ]
  },
  {
   "cell_type": "code",
   "execution_count": 14,
   "metadata": {},
   "outputs": [],
   "source": [
    "reg = KNeighborsRegressor(n_neighbors=3,n_jobs=-1)"
   ]
  },
  {
   "cell_type": "code",
   "execution_count": 15,
   "metadata": {},
   "outputs": [
    {
     "data": {
      "text/plain": [
       "KNeighborsRegressor(algorithm='auto', leaf_size=30, metric='minkowski',\n",
       "                    metric_params=None, n_jobs=-1, n_neighbors=3, p=2,\n",
       "                    weights='uniform')"
      ]
     },
     "execution_count": 15,
     "metadata": {},
     "output_type": "execute_result"
    }
   ],
   "source": [
    "reg.fit(X_train, y_train)"
   ]
  },
  {
   "cell_type": "code",
   "execution_count": 16,
   "metadata": {},
   "outputs": [],
   "source": [
    "predict=reg.predict(X_test)"
   ]
  },
  {
   "cell_type": "code",
   "execution_count": 18,
   "metadata": {},
   "outputs": [
    {
     "name": "stdout",
     "output_type": "stream",
     "text": [
      "regression score for train data set with K=3 : 0.8601440927321993\n"
     ]
    }
   ],
   "source": [
    "print(f'regression score for train data set with K=3 : {reg.score(X_train,y_train)}')"
   ]
  },
  {
   "cell_type": "code",
   "execution_count": 19,
   "metadata": {},
   "outputs": [
    {
     "name": "stdout",
     "output_type": "stream",
     "text": [
      "regression score for test data set with K=3 : 0.5786299068632265\n"
     ]
    }
   ],
   "source": [
    "print(f'regression score for test data set with K=3 : {reg.score(X_test,y_test)}')"
   ]
  },
  {
   "cell_type": "code",
   "execution_count": 21,
   "metadata": {},
   "outputs": [
    {
     "name": "stdout",
     "output_type": "stream",
     "text": [
      "0.5786299068632265\n"
     ]
    }
   ],
   "source": [
    "print(r2_score(y_test,predict))"
   ]
  },
  {
   "cell_type": "markdown",
   "metadata": {},
   "source": [
    "### the abive result is not good , let us try with different values of K if there is overfitting "
   ]
  },
  {
   "cell_type": "code",
   "execution_count": null,
   "metadata": {},
   "outputs": [],
   "source": [
    "from sklearn.model_selection import GridSearchCV\n",
    "params = {'n_neighbors':[3,7,8]}\n",
    "\n",
    "knn = KNeighborsRegressor()\n",
    "\n",
    "\n",
    "model = GridSearchCV(knn, params, cv=5)\n",
    "res=model.fit(X_train,y_train)"
   ]
  },
  {
   "cell_type": "markdown",
   "metadata": {},
   "source": [
    "res.best_params_\n",
    "res.best_estimator_\n",
    "res.best_score_\n",
    "res.cv_results_"
   ]
  },
  {
   "cell_type": "markdown",
   "metadata": {},
   "source": [
    "## applying different methonds Linear reg , Decision Trees and Random Forest"
   ]
  },
  {
   "cell_type": "code",
   "execution_count": 23,
   "metadata": {},
   "outputs": [
    {
     "name": "stdout",
     "output_type": "stream",
     "text": [
      "0.08886082516753524\n",
      "0.9630997292012835\n"
     ]
    },
    {
     "name": "stderr",
     "output_type": "stream",
     "text": [
      "C:\\Users\\Sukhmeet\\Anaconda3\\lib\\site-packages\\sklearn\\ensemble\\forest.py:245: FutureWarning: The default value of n_estimators will change from 10 in version 0.20 to 100 in 0.22.\n",
      "  \"10 in version 0.20 to 100 in 0.22.\", FutureWarning)\n"
     ]
    },
    {
     "name": "stdout",
     "output_type": "stream",
     "text": [
      "0.9690065715919133\n"
     ]
    }
   ],
   "source": [
    "\n",
    "lr = LinearRegression()\n",
    "dt= DecisionTreeRegressor()\n",
    "rf = RandomForestRegressor()\n",
    "models = [lr,dt,rf]\n",
    "\n",
    "for model in models:\n",
    "    model.fit(X_train,y_train)\n",
    "    y_pred = model.predict(X_test)\n",
    "    print(r2_score(y_test,y_pred))"
   ]
  },
  {
   "cell_type": "markdown",
   "metadata": {},
   "source": [
    "### Random Forest and Decision Tree are giving good results let us test and find the best parameters"
   ]
  },
  {
   "cell_type": "markdown",
   "metadata": {},
   "source": [
    "### using GridSearchCV : this method was taking quite some time to run so i have used just few features in this and rest testes later below"
   ]
  },
  {
   "cell_type": "code",
   "execution_count": null,
   "metadata": {},
   "outputs": [],
   "source": [
    "params = {'n_estimators': [50, 60, 100] ,'max_features': ['log2', 'sqrt','auto']}\n",
    "\n",
    "\n",
    "\n",
    "random_forest = RandomForestRegressor()\n",
    "\n",
    "\n",
    "model = GridSearchCV(random_forest, param_grid=params)\n",
    "res=model.fit(X_train,y_train)"
   ]
  },
  {
   "cell_type": "code",
   "execution_count": 65,
   "metadata": {},
   "outputs": [
    {
     "data": {
      "text/plain": [
       "{'max_features': 'auto', 'n_estimators': 100}"
      ]
     },
     "execution_count": 65,
     "metadata": {},
     "output_type": "execute_result"
    }
   ],
   "source": [
    "res.best_params_"
   ]
  },
  {
   "cell_type": "code",
   "execution_count": 66,
   "metadata": {},
   "outputs": [
    {
     "data": {
      "text/plain": [
       "RandomForestRegressor(bootstrap=True, criterion='mse', max_depth=None,\n",
       "                      max_features='auto', max_leaf_nodes=None,\n",
       "                      min_impurity_decrease=0.0, min_impurity_split=None,\n",
       "                      min_samples_leaf=1, min_samples_split=2,\n",
       "                      min_weight_fraction_leaf=0.0, n_estimators=100,\n",
       "                      n_jobs=None, oob_score=False, random_state=None,\n",
       "                      verbose=0, warm_start=False)"
      ]
     },
     "execution_count": 66,
     "metadata": {},
     "output_type": "execute_result"
    }
   ],
   "source": [
    "res.best_estimator_\n"
   ]
  },
  {
   "cell_type": "code",
   "execution_count": 67,
   "metadata": {},
   "outputs": [
    {
     "data": {
      "text/plain": [
       "0.96251055462443"
      ]
     },
     "execution_count": 67,
     "metadata": {},
     "output_type": "execute_result"
    }
   ],
   "source": [
    "res.best_score_"
   ]
  },
  {
   "cell_type": "code",
   "execution_count": 68,
   "metadata": {},
   "outputs": [
    {
     "data": {
      "text/plain": [
       "{'mean_fit_time': array([ 41.08570782,  47.57773956,  85.2541225 ,  39.90672255,\n",
       "         47.95340077,  81.42344721,  77.08644342,  92.11679562,\n",
       "        155.40788507]),\n",
       " 'std_fit_time': array([4.15371608, 0.38445737, 1.4911974 , 0.42129487, 0.02494478,\n",
       "        0.49975614, 0.77203899, 0.15923457, 0.79345948]),\n",
       " 'mean_score_time': array([ 4.89436118,  5.97867672, 10.73001496,  5.34667404,  6.44000904,\n",
       "        10.85334865,  5.1066738 ,  6.52334237, 10.7003483 ]),\n",
       " 'std_score_time': array([0.55538662, 0.38290508, 0.1296151 , 0.18372708, 0.20510185,\n",
       "        0.10873034, 0.06018495, 0.17211125, 0.22596544]),\n",
       " 'param_max_features': masked_array(data=['log2', 'log2', 'log2', 'sqrt', 'sqrt', 'sqrt', 'auto',\n",
       "                    'auto', 'auto'],\n",
       "              mask=[False, False, False, False, False, False, False, False,\n",
       "                    False],\n",
       "        fill_value='?',\n",
       "             dtype=object),\n",
       " 'param_n_estimators': masked_array(data=[50, 60, 100, 50, 60, 100, 50, 60, 100],\n",
       "              mask=[False, False, False, False, False, False, False, False,\n",
       "                    False],\n",
       "        fill_value='?',\n",
       "             dtype=object),\n",
       " 'params': [{'max_features': 'log2', 'n_estimators': 50},\n",
       "  {'max_features': 'log2', 'n_estimators': 60},\n",
       "  {'max_features': 'log2', 'n_estimators': 100},\n",
       "  {'max_features': 'sqrt', 'n_estimators': 50},\n",
       "  {'max_features': 'sqrt', 'n_estimators': 60},\n",
       "  {'max_features': 'sqrt', 'n_estimators': 100},\n",
       "  {'max_features': 'auto', 'n_estimators': 50},\n",
       "  {'max_features': 'auto', 'n_estimators': 60},\n",
       "  {'max_features': 'auto', 'n_estimators': 100}],\n",
       " 'split0_test_score': array([0.93659286, 0.93615505, 0.93417801, 0.90842422, 0.91121349,\n",
       "        0.91002206, 0.95966444, 0.95988605, 0.96008938]),\n",
       " 'split1_test_score': array([0.94441507, 0.94704082, 0.94820242, 0.92469688, 0.92228198,\n",
       "        0.92334185, 0.96694929, 0.9665382 , 0.96674798]),\n",
       " 'split2_test_score': array([0.95003565, 0.94695674, 0.94858632, 0.92276366, 0.92584488,\n",
       "        0.92609089, 0.96057059, 0.96072353, 0.96069433]),\n",
       " 'mean_test_score': array([0.94368117, 0.94338418, 0.94365555, 0.91862822, 0.91978009,\n",
       "        0.91981823, 0.96239476, 0.96238258, 0.96251055]),\n",
       " 'std_test_score': array([0.00551248, 0.00511191, 0.0067035 , 0.00725839, 0.00622972,\n",
       "        0.0070173 , 0.0032417 , 0.00295828, 0.00300646]),\n",
       " 'rank_test_score': array([4, 6, 5, 9, 8, 7, 2, 3, 1])}"
      ]
     },
     "execution_count": 68,
     "metadata": {},
     "output_type": "execute_result"
    }
   ],
   "source": [
    "res.cv_results_"
   ]
  },
  {
   "cell_type": "code",
   "execution_count": 69,
   "metadata": {},
   "outputs": [],
   "source": [
    "# Setting to the best combination\n",
    "\n",
    "best_comb=res.best_estimator_"
   ]
  },
  {
   "cell_type": "code",
   "execution_count": 70,
   "metadata": {},
   "outputs": [
    {
     "data": {
      "text/plain": [
       "RandomForestRegressor(bootstrap=True, criterion='mse', max_depth=None,\n",
       "                      max_features='auto', max_leaf_nodes=None,\n",
       "                      min_impurity_decrease=0.0, min_impurity_split=None,\n",
       "                      min_samples_leaf=1, min_samples_split=2,\n",
       "                      min_weight_fraction_leaf=0.0, n_estimators=100,\n",
       "                      n_jobs=None, oob_score=False, random_state=None,\n",
       "                      verbose=0, warm_start=False)"
      ]
     },
     "execution_count": 70,
     "metadata": {},
     "output_type": "execute_result"
    }
   ],
   "source": [
    "best_comb.fit(X_train, y_train)"
   ]
  },
  {
   "cell_type": "code",
   "execution_count": 71,
   "metadata": {},
   "outputs": [
    {
     "name": "stdout",
     "output_type": "stream",
     "text": [
      "0.9888707913989819\n"
     ]
    }
   ],
   "source": [
    "print(best_comb.score(X_train,y_train))"
   ]
  },
  {
   "cell_type": "code",
   "execution_count": 72,
   "metadata": {},
   "outputs": [],
   "source": [
    "y_predict = best_comb.predict(X_test)"
   ]
  },
  {
   "cell_type": "code",
   "execution_count": 73,
   "metadata": {},
   "outputs": [
    {
     "name": "stdout",
     "output_type": "stream",
     "text": [
      "0.961641005346302\n"
     ]
    }
   ],
   "source": [
    "print(r2_score(y_test,y_predict))"
   ]
  },
  {
   "cell_type": "markdown",
   "metadata": {},
   "source": [
    "## checking accuarcy of the model with diff parameters and fetching the best"
   ]
  },
  {
   "cell_type": "code",
   "execution_count": 11,
   "metadata": {},
   "outputs": [
    {
     "data": {
      "text/plain": [
       "[<matplotlib.lines.Line2D at 0xc61c9c8>]"
      ]
     },
     "execution_count": 11,
     "metadata": {},
     "output_type": "execute_result"
    },
    {
     "data": {
      "image/png": "[encoded data removed]",
      "text/plain": [
       "<Figure size 432x288 with 1 Axes>"
      ]
     },
     "metadata": {
      "needs_background": "light"
     },
     "output_type": "display_data"
    }
   ],
   "source": [
    "random_forest = RandomForestRegressor()\n",
    "estimators = np.arange(50, 130, 10)\n",
    "scores = []\n",
    "for n in estimators:\n",
    "    random_forest.set_params(n_estimators=n)\n",
    "    random_forest.fit(X_train, y_train)\n",
    "    scores.append(random_forest.score(X_test, y_test))\n",
    "plt.title(\"Effect of n_estimators\")\n",
    "plt.xlabel(\"n_estimator\")\n",
    "plt.ylabel(\"score\")\n",
    "plt.plot(estimators, scores)"
   ]
  },
  {
   "cell_type": "code",
   "execution_count": 13,
   "metadata": {},
   "outputs": [
    {
     "data": {
      "text/plain": [
       "[<matplotlib.lines.Line2D at 0x54fcc08>]"
      ]
     },
     "execution_count": 13,
     "metadata": {},
     "output_type": "execute_result"
    },
    {
     "data": {
      "image/png": "[encoded data removed]",
      "text/plain": [
       "<Figure size 432x288 with 1 Axes>"
      ]
     },
     "metadata": {
      "needs_background": "light"
     },
     "output_type": "display_data"
    }
   ],
   "source": [
    "random_forest = RandomForestRegressor()\n",
    "depths=np.arange(25, 40, 3)\n",
    "scores = []\n",
    "for dep in depths:\n",
    "    random_forest.set_params(n_estimators=58,max_depth=dep)\n",
    "    random_forest.fit(X_train, y_train)\n",
    "    scores.append(random_forest.score(X_test, y_test))\n",
    "plt.title(\"Effect of max_depth\")\n",
    "plt.xlabel(\"max_depth\")\n",
    "plt.ylabel(\"score\")\n",
    "plt.plot(depths, scores)"
   ]
  },
  {
   "cell_type": "code",
   "execution_count": 14,
   "metadata": {},
   "outputs": [
    {
     "data": {
      "text/plain": [
       "[<matplotlib.lines.Line2D at 0x553a888>]"
      ]
     },
     "execution_count": 14,
     "metadata": {},
     "output_type": "execute_result"
    },
    {
     "data": {
      "image/png": "[encoded data removed]",
      "text/plain": [
       "<Figure size 432x288 with 1 Axes>"
      ]
     },
     "metadata": {
      "needs_background": "light"
     },
     "output_type": "display_data"
    }
   ],
   "source": [
    "features=[2,4,6,8]\n",
    "random_forest = RandomForestRegressor()\n",
    "scores = []\n",
    "for feature in features:\n",
    "    random_forest.set_params(n_estimators=58,max_depth=28,max_features=feature)\n",
    "    random_forest.fit(X_train, y_train)\n",
    "    scores.append(random_forest.score(X_test, y_test))\n",
    "plt.title(\"Effect of max_features\")\n",
    "plt.xlabel(\"max_features\")\n",
    "plt.ylabel(\"score\")\n",
    "plt.plot(features, scores)"
   ]
  },
  {
   "cell_type": "code",
   "execution_count": 15,
   "metadata": {},
   "outputs": [
    {
     "data": {
      "text/plain": [
       "[<matplotlib.lines.Line2D at 0xc627a48>]"
      ]
     },
     "execution_count": 15,
     "metadata": {},
     "output_type": "execute_result"
    },
    {
     "data": {
      "image/png": "[encoded data removed]",
      "text/plain": [
       "<Figure size 432x288 with 1 Axes>"
      ]
     },
     "metadata": {
      "needs_background": "light"
     },
     "output_type": "display_data"
    }
   ],
   "source": [
    "samples_splits=[2,3,4,5,6]\n",
    "random_forest = RandomForestRegressor()\n",
    "scores = []\n",
    "for sample in samples_splits:\n",
    "    random_forest.set_params(n_estimators=58,max_depth=28,max_features=4,min_samples_split=sample)\n",
    "    random_forest.fit(X_train, y_train)\n",
    "    scores.append(random_forest.score(X_test, y_test))\n",
    "plt.title(\"Effect of max_samples_split\")\n",
    "plt.xlabel(\"max_samples_splits\")\n",
    "plt.ylabel(\"score\")\n",
    "plt.plot(samples_splits, scores)"
   ]
  },
  {
   "cell_type": "code",
   "execution_count": 44,
   "metadata": {},
   "outputs": [
    {
     "data": {
      "text/plain": [
       "[<matplotlib.lines.Line2D at 0x46254b48>]"
      ]
     },
     "execution_count": 44,
     "metadata": {},
     "output_type": "execute_result"
    },
    {
     "data": {
      "image/png": "[encoded data removed]",
      "text/plain": [
       "<Figure size 432x288 with 1 Axes>"
      ]
     },
     "metadata": {
      "needs_background": "light"
     },
     "output_type": "display_data"
    }
   ],
   "source": [
    "samples_leaf=[1,2,3,4]\n",
    "random_forest = RandomForestRegressor()\n",
    "scores = []\n",
    "for leaf in samples_leaf:\n",
    "    random_forest.set_params(n_estimators=58,max_depth=28,max_features=4,min_samples_split=3,min_samples_leaf=leaf)\n",
    "    random_forest.fit(X_train, y_train)\n",
    "    scores.append(random_forest.score(X_test, y_test))\n",
    "plt.title(\"Effect of min_samples_leaf\")\n",
    "plt.xlabel(\"min_samples_leaf\")\n",
    "plt.ylabel(\"score\")\n",
    "plt.plot(samples_leaf, scores)"
   ]
  },
  {
   "cell_type": "code",
   "execution_count": 17,
   "metadata": {},
   "outputs": [
    {
     "data": {
      "text/plain": [
       "[<matplotlib.lines.Line2D at 0x6c83d08>]"
      ]
     },
     "execution_count": 17,
     "metadata": {},
     "output_type": "execute_result"
    },
    {
     "data": {
      "image/png": "[encoded data removed]",
      "text/plain": [
       "<Figure size 432x288 with 1 Axes>"
      ]
     },
     "metadata": {
      "needs_background": "light"
     },
     "output_type": "display_data"
    }
   ],
   "source": [
    "plt.title(\"Effect of min_samples_leaf\")\n",
    "plt.xlabel(\"min_samples_leaf\")\n",
    "plt.ylabel(\"score\")\n",
    "plt.plot(samples_leaf, scores)"
   ]
  },
  {
   "cell_type": "markdown",
   "metadata": {},
   "source": [
    "## Applying K-Fold "
   ]
  },
  {
   "cell_type": "markdown",
   "metadata": {},
   "source": [
    "## Defination of K-Folds Cross Validation\n",
    "In K-Folds Cross Validation we split our data into k different subsets (or folds). We use k-1 subsets to train our data and leave the last subset (or the last fold) as test data. We then average the model against each of the folds and then finalize our model. After that we test it against the test set."
   ]
  },
  {
   "cell_type": "markdown",
   "metadata": {},
   "source": [
    "scores = []\n",
    "\n",
    "cv = KFold(n_splits=10, random_state=42, shuffle=False)\n",
    "for train_index, test_index in cv.split(X_scales):\n",
    "    print(\"Train Index: \", train_index, \"\\n\")\n",
    "    print(\"Test Index: \", test_index)\n",
    "    X_train, X_test = X_scales.values[train_index], X_scales.values[test_index]\n",
    "    y_train, y_test = y.values[train_index], y.values[test_index]\n",
    "\n",
    "    ##X_train, X_test, y_train, y_test = X[train_index], X[test_index], y[train_index], y[test_index]\n",
    "    best_comb.fit(X_train, y_train)\n",
    "    y_predict = best_comb.predict(X_test)\n",
    "    scores.append(r2_score(y_test,y_predict))\n",
    "    \n",
    "\n"
   ]
  },
  {
   "cell_type": "code",
   "execution_count": 106,
   "metadata": {},
   "outputs": [
    {
     "name": "stdout",
     "output_type": "stream",
     "text": [
      "Accuracy: 96.68%\n"
     ]
    }
   ],
   "source": [
    "kfold = KFold(n_splits=10, random_state=100)\n",
    "model_kfold = RandomForestRegressor(n_estimators=58, max_depth=27, max_features=6, min_samples_split=3, min_samples_leaf=1)\n",
    "results_kfold = model_selection.cross_val_score(model_kfold, X_train, y_train, cv=kfold)\n",
    "print(\"Accuracy: %.2f%%\" % (results_kfold.mean()*100.0)) "
   ]
  },
  {
   "cell_type": "code",
   "execution_count": 107,
   "metadata": {},
   "outputs": [
    {
     "data": {
      "text/plain": [
       "array([0.96959877, 0.96638596, 0.94822622, 0.97104324, 0.97108284,\n",
       "       0.96686249, 0.96877837, 0.96910803, 0.97028648, 0.96645364])"
      ]
     },
     "execution_count": 107,
     "metadata": {},
     "output_type": "execute_result"
    }
   ],
   "source": [
    "results_kfold"
   ]
  },
  {
   "cell_type": "code",
   "execution_count": 18,
   "metadata": {},
   "outputs": [
    {
     "name": "stdout",
     "output_type": "stream",
     "text": [
      "Accuracy: 96.24%\n"
     ]
    }
   ],
   "source": [
    "kfold = KFold(n_splits=10, random_state=100)\n",
    "model_kfold = RandomForestRegressor(n_estimators=58, max_depth=28, max_features=4, min_samples_split=3, min_samples_leaf=1)\n",
    "results_kfold = model_selection.cross_val_score(model_kfold, X_train, y_train, cv=kfold)\n",
    "print(\"Accuracy: %.2f%%\" % (results_kfold.mean()*100.0)) "
   ]
  },
  {
   "cell_type": "code",
   "execution_count": 10,
   "metadata": {},
   "outputs": [],
   "source": [
    "rf=RandomForestRegressor(n_estimators=58, max_depth=27, max_features=6, min_samples_split=3, min_samples_leaf=1)\n",
    "rf.fit(X_train, y_train)\n",
    "y_predict = rf.predict(X_test)"
   ]
  },
  {
   "cell_type": "code",
   "execution_count": 21,
   "metadata": {},
   "outputs": [
    {
     "name": "stdout",
     "output_type": "stream",
     "text": [
      "0.9885370666190293\n",
      "0.9635517103303001\n"
     ]
    }
   ],
   "source": [
    "print(rf.score(X_train,y_train))\n",
    "print(rf.score(X_test,y_test))"
   ]
  },
  {
   "cell_type": "code",
   "execution_count": 22,
   "metadata": {},
   "outputs": [
    {
     "name": "stdout",
     "output_type": "stream",
     "text": [
      "0.9635517103303001\n"
     ]
    }
   ],
   "source": [
    "print(r2_score(y_test,y_predict))"
   ]
  },
  {
   "cell_type": "markdown",
   "metadata": {},
   "source": [
    "## Now as got good results with above selected parameters lets perform the final prediction on the testing data"
   ]
  },
  {
   "cell_type": "code",
   "execution_count": 27,
   "metadata": {},
   "outputs": [],
   "source": [
    "features=pd.read_csv(\"features.csv\")\n",
    "stores=pd.read_csv('stores.csv')\n",
    "sampleSubmission=pd.read_csv('sampleSubmission.csv')\n",
    "test=pd.read_csv('test.csv')\n",
    "train=pd.read_csv('train.csv')"
   ]
  },
  {
   "cell_type": "code",
   "execution_count": 28,
   "metadata": {},
   "outputs": [],
   "source": [
    "df_test=pd.merge(features,stores,on='Store')"
   ]
  },
  {
   "cell_type": "code",
   "execution_count": 29,
   "metadata": {},
   "outputs": [],
   "source": [
    "df_test=test.merge(df_test,on=['Store','Date','IsHoliday'])"
   ]
  },
  {
   "cell_type": "code",
   "execution_count": 30,
   "metadata": {},
   "outputs": [
    {
     "data": {
      "text/html": [
       "<div>\n",
       "<style scoped>\n",
       "    .dataframe tbody tr th:only-of-type {\n",
       "        vertical-align: middle;\n",
       "    }\n",
       "\n",
       "    .dataframe tbody tr th {\n",
       "        vertical-align: top;\n",
       "    }\n",
       "\n",
       "    .dataframe thead th {\n",
       "        text-align: right;\n",
       "    }\n",
       "</style>\n",
       "<table border=\"1\" class=\"dataframe\">\n",
       "  <thead>\n",
       "    <tr style=\"text-align: right;\">\n",
       "      <th></th>\n",
       "      <th>Store</th>\n",
       "      <th>Dept</th>\n",
       "      <th>Date</th>\n",
       "      <th>IsHoliday</th>\n",
       "      <th>Temperature</th>\n",
       "      <th>Fuel_Price</th>\n",
       "      <th>MarkDown1</th>\n",
       "      <th>MarkDown2</th>\n",
       "      <th>MarkDown3</th>\n",
       "      <th>MarkDown4</th>\n",
       "      <th>MarkDown5</th>\n",
       "      <th>CPI</th>\n",
       "      <th>Unemployment</th>\n",
       "      <th>Type</th>\n",
       "      <th>Size</th>\n",
       "    </tr>\n",
       "  </thead>\n",
       "  <tbody>\n",
       "    <tr>\n",
       "      <td>0</td>\n",
       "      <td>1</td>\n",
       "      <td>1</td>\n",
       "      <td>2012-11-02</td>\n",
       "      <td>False</td>\n",
       "      <td>55.32</td>\n",
       "      <td>3.386</td>\n",
       "      <td>6766.44</td>\n",
       "      <td>5147.70</td>\n",
       "      <td>50.82</td>\n",
       "      <td>3639.90</td>\n",
       "      <td>2737.42</td>\n",
       "      <td>223.462779</td>\n",
       "      <td>6.573</td>\n",
       "      <td>A</td>\n",
       "      <td>151315</td>\n",
       "    </tr>\n",
       "    <tr>\n",
       "      <td>1</td>\n",
       "      <td>1</td>\n",
       "      <td>2</td>\n",
       "      <td>2012-11-02</td>\n",
       "      <td>False</td>\n",
       "      <td>55.32</td>\n",
       "      <td>3.386</td>\n",
       "      <td>6766.44</td>\n",
       "      <td>5147.70</td>\n",
       "      <td>50.82</td>\n",
       "      <td>3639.90</td>\n",
       "      <td>2737.42</td>\n",
       "      <td>223.462779</td>\n",
       "      <td>6.573</td>\n",
       "      <td>A</td>\n",
       "      <td>151315</td>\n",
       "    </tr>\n",
       "    <tr>\n",
       "      <td>2</td>\n",
       "      <td>1</td>\n",
       "      <td>3</td>\n",
       "      <td>2012-11-02</td>\n",
       "      <td>False</td>\n",
       "      <td>55.32</td>\n",
       "      <td>3.386</td>\n",
       "      <td>6766.44</td>\n",
       "      <td>5147.70</td>\n",
       "      <td>50.82</td>\n",
       "      <td>3639.90</td>\n",
       "      <td>2737.42</td>\n",
       "      <td>223.462779</td>\n",
       "      <td>6.573</td>\n",
       "      <td>A</td>\n",
       "      <td>151315</td>\n",
       "    </tr>\n",
       "    <tr>\n",
       "      <td>3</td>\n",
       "      <td>1</td>\n",
       "      <td>4</td>\n",
       "      <td>2012-11-02</td>\n",
       "      <td>False</td>\n",
       "      <td>55.32</td>\n",
       "      <td>3.386</td>\n",
       "      <td>6766.44</td>\n",
       "      <td>5147.70</td>\n",
       "      <td>50.82</td>\n",
       "      <td>3639.90</td>\n",
       "      <td>2737.42</td>\n",
       "      <td>223.462779</td>\n",
       "      <td>6.573</td>\n",
       "      <td>A</td>\n",
       "      <td>151315</td>\n",
       "    </tr>\n",
       "    <tr>\n",
       "      <td>4</td>\n",
       "      <td>1</td>\n",
       "      <td>5</td>\n",
       "      <td>2012-11-02</td>\n",
       "      <td>False</td>\n",
       "      <td>55.32</td>\n",
       "      <td>3.386</td>\n",
       "      <td>6766.44</td>\n",
       "      <td>5147.70</td>\n",
       "      <td>50.82</td>\n",
       "      <td>3639.90</td>\n",
       "      <td>2737.42</td>\n",
       "      <td>223.462779</td>\n",
       "      <td>6.573</td>\n",
       "      <td>A</td>\n",
       "      <td>151315</td>\n",
       "    </tr>\n",
       "    <tr>\n",
       "      <td>...</td>\n",
       "      <td>...</td>\n",
       "      <td>...</td>\n",
       "      <td>...</td>\n",
       "      <td>...</td>\n",
       "      <td>...</td>\n",
       "      <td>...</td>\n",
       "      <td>...</td>\n",
       "      <td>...</td>\n",
       "      <td>...</td>\n",
       "      <td>...</td>\n",
       "      <td>...</td>\n",
       "      <td>...</td>\n",
       "      <td>...</td>\n",
       "      <td>...</td>\n",
       "      <td>...</td>\n",
       "    </tr>\n",
       "    <tr>\n",
       "      <td>115059</td>\n",
       "      <td>45</td>\n",
       "      <td>93</td>\n",
       "      <td>2013-07-26</td>\n",
       "      <td>False</td>\n",
       "      <td>76.06</td>\n",
       "      <td>3.804</td>\n",
       "      <td>212.02</td>\n",
       "      <td>851.73</td>\n",
       "      <td>2.06</td>\n",
       "      <td>10.88</td>\n",
       "      <td>1864.57</td>\n",
       "      <td>NaN</td>\n",
       "      <td>NaN</td>\n",
       "      <td>B</td>\n",
       "      <td>118221</td>\n",
       "    </tr>\n",
       "    <tr>\n",
       "      <td>115060</td>\n",
       "      <td>45</td>\n",
       "      <td>94</td>\n",
       "      <td>2013-07-26</td>\n",
       "      <td>False</td>\n",
       "      <td>76.06</td>\n",
       "      <td>3.804</td>\n",
       "      <td>212.02</td>\n",
       "      <td>851.73</td>\n",
       "      <td>2.06</td>\n",
       "      <td>10.88</td>\n",
       "      <td>1864.57</td>\n",
       "      <td>NaN</td>\n",
       "      <td>NaN</td>\n",
       "      <td>B</td>\n",
       "      <td>118221</td>\n",
       "    </tr>\n",
       "    <tr>\n",
       "      <td>115061</td>\n",
       "      <td>45</td>\n",
       "      <td>95</td>\n",
       "      <td>2013-07-26</td>\n",
       "      <td>False</td>\n",
       "      <td>76.06</td>\n",
       "      <td>3.804</td>\n",
       "      <td>212.02</td>\n",
       "      <td>851.73</td>\n",
       "      <td>2.06</td>\n",
       "      <td>10.88</td>\n",
       "      <td>1864.57</td>\n",
       "      <td>NaN</td>\n",
       "      <td>NaN</td>\n",
       "      <td>B</td>\n",
       "      <td>118221</td>\n",
       "    </tr>\n",
       "    <tr>\n",
       "      <td>115062</td>\n",
       "      <td>45</td>\n",
       "      <td>97</td>\n",
       "      <td>2013-07-26</td>\n",
       "      <td>False</td>\n",
       "      <td>76.06</td>\n",
       "      <td>3.804</td>\n",
       "      <td>212.02</td>\n",
       "      <td>851.73</td>\n",
       "      <td>2.06</td>\n",
       "      <td>10.88</td>\n",
       "      <td>1864.57</td>\n",
       "      <td>NaN</td>\n",
       "      <td>NaN</td>\n",
       "      <td>B</td>\n",
       "      <td>118221</td>\n",
       "    </tr>\n",
       "    <tr>\n",
       "      <td>115063</td>\n",
       "      <td>45</td>\n",
       "      <td>98</td>\n",
       "      <td>2013-07-26</td>\n",
       "      <td>False</td>\n",
       "      <td>76.06</td>\n",
       "      <td>3.804</td>\n",
       "      <td>212.02</td>\n",
       "      <td>851.73</td>\n",
       "      <td>2.06</td>\n",
       "      <td>10.88</td>\n",
       "      <td>1864.57</td>\n",
       "      <td>NaN</td>\n",
       "      <td>NaN</td>\n",
       "      <td>B</td>\n",
       "      <td>118221</td>\n",
       "    </tr>\n",
       "  </tbody>\n",
       "</table>\n",
       "<p>115064 rows × 15 columns</p>\n",
       "</div>"
      ],
      "text/plain": [
       "        Store  Dept        Date  IsHoliday  Temperature  Fuel_Price  \\\n",
       "0           1     1  2012-11-02      False        55.32       3.386   \n",
       "1           1     2  2012-11-02      False        55.32       3.386   \n",
       "2           1     3  2012-11-02      False        55.32       3.386   \n",
       "3           1     4  2012-11-02      False        55.32       3.386   \n",
       "4           1     5  2012-11-02      False        55.32       3.386   \n",
       "...       ...   ...         ...        ...          ...         ...   \n",
       "115059     45    93  2013-07-26      False        76.06       3.804   \n",
       "115060     45    94  2013-07-26      False        76.06       3.804   \n",
       "115061     45    95  2013-07-26      False        76.06       3.804   \n",
       "115062     45    97  2013-07-26      False        76.06       3.804   \n",
       "115063     45    98  2013-07-26      False        76.06       3.804   \n",
       "\n",
       "        MarkDown1  MarkDown2  MarkDown3  MarkDown4  MarkDown5         CPI  \\\n",
       "0         6766.44    5147.70      50.82    3639.90    2737.42  223.462779   \n",
       "1         6766.44    5147.70      50.82    3639.90    2737.42  223.462779   \n",
       "2         6766.44    5147.70      50.82    3639.90    2737.42  223.462779   \n",
       "3         6766.44    5147.70      50.82    3639.90    2737.42  223.462779   \n",
       "4         6766.44    5147.70      50.82    3639.90    2737.42  223.462779   \n",
       "...           ...        ...        ...        ...        ...         ...   \n",
       "115059     212.02     851.73       2.06      10.88    1864.57         NaN   \n",
       "115060     212.02     851.73       2.06      10.88    1864.57         NaN   \n",
       "115061     212.02     851.73       2.06      10.88    1864.57         NaN   \n",
       "115062     212.02     851.73       2.06      10.88    1864.57         NaN   \n",
       "115063     212.02     851.73       2.06      10.88    1864.57         NaN   \n",
       "\n",
       "        Unemployment Type    Size  \n",
       "0              6.573    A  151315  \n",
       "1              6.573    A  151315  \n",
       "2              6.573    A  151315  \n",
       "3              6.573    A  151315  \n",
       "4              6.573    A  151315  \n",
       "...              ...  ...     ...  \n",
       "115059           NaN    B  118221  \n",
       "115060           NaN    B  118221  \n",
       "115061           NaN    B  118221  \n",
       "115062           NaN    B  118221  \n",
       "115063           NaN    B  118221  \n",
       "\n",
       "[115064 rows x 15 columns]"
      ]
     },
     "execution_count": 30,
     "metadata": {},
     "output_type": "execute_result"
    }
   ],
   "source": [
    "df_test"
   ]
  },
  {
   "cell_type": "code",
   "execution_count": 31,
   "metadata": {},
   "outputs": [],
   "source": [
    "df_test['Date']=pd.to_datetime(df_test['Date'])"
   ]
  },
  {
   "cell_type": "code",
   "execution_count": 32,
   "metadata": {},
   "outputs": [],
   "source": [
    "df_test['Week']=df_test.Date.dt.week\n",
    "df_test['Month']=df_test.Date.dt.month\n",
    "df_test['Year']=df_test.Date.dt.year\n"
   ]
  },
  {
   "cell_type": "code",
   "execution_count": 33,
   "metadata": {},
   "outputs": [],
   "source": [
    "df_test['IsHoliday']=np.where(df_test['IsHoliday'],1,0)"
   ]
  },
  {
   "cell_type": "code",
   "execution_count": 34,
   "metadata": {},
   "outputs": [],
   "source": [
    "df_test=pd.get_dummies(df_test)"
   ]
  },
  {
   "cell_type": "code",
   "execution_count": 35,
   "metadata": {},
   "outputs": [],
   "source": [
    "X_test_final=df_test[['Store','Dept','IsHoliday','Size','Week','Type_A','Type_B','Type_C']]\n"
   ]
  },
  {
   "cell_type": "code",
   "execution_count": 36,
   "metadata": {},
   "outputs": [],
   "source": [
    "scaler = StandardScaler()\n",
    "X_test_scaler = scaler.fit_transform(X_test_final)\n",
    "X_test_scaler=pd.DataFrame(X_test_scaler,columns=['Store','Dept','IsHoliday','Size','Week','Type_A','Type_B','Type_C'])"
   ]
  },
  {
   "cell_type": "code",
   "execution_count": 37,
   "metadata": {},
   "outputs": [],
   "source": [
    "y_predict_final = rf.predict(X_test_scaler)"
   ]
  },
  {
   "cell_type": "code",
   "execution_count": 38,
   "metadata": {},
   "outputs": [
    {
     "data": {
      "text/plain": [
       "array([19325.8100977 , 44284.69743966,  9372.91999384, ...,\n",
       "       54309.36250575,  6398.48359257,   659.35637452])"
      ]
     },
     "execution_count": 38,
     "metadata": {},
     "output_type": "execute_result"
    }
   ],
   "source": [
    "y_predict_final"
   ]
  },
  {
   "cell_type": "code",
   "execution_count": 41,
   "metadata": {},
   "outputs": [],
   "source": [
    "test['Weekly_Sales']=y_predict_final"
   ]
  },
  {
   "cell_type": "code",
   "execution_count": 43,
   "metadata": {},
   "outputs": [],
   "source": [
    "test.to_csv('final_output.csv')"
   ]
  },
  {
   "cell_type": "code",
   "execution_count": 45,
   "metadata": {},
   "outputs": [
    {
     "data": {
      "text/html": [
       "<div>\n",
       "<style scoped>\n",
       "    .dataframe tbody tr th:only-of-type {\n",
       "        vertical-align: middle;\n",
       "    }\n",
       "\n",
       "    .dataframe tbody tr th {\n",
       "        vertical-align: top;\n",
       "    }\n",
       "\n",
       "    .dataframe thead th {\n",
       "        text-align: right;\n",
       "    }\n",
       "</style>\n",
       "<table border=\"1\" class=\"dataframe\">\n",
       "  <thead>\n",
       "    <tr style=\"text-align: right;\">\n",
       "      <th></th>\n",
       "      <th>Store</th>\n",
       "      <th>Dept</th>\n",
       "      <th>IsHoliday</th>\n",
       "      <th>Size</th>\n",
       "      <th>Week</th>\n",
       "      <th>Type_A</th>\n",
       "      <th>Type_B</th>\n",
       "      <th>Type_C</th>\n",
       "    </tr>\n",
       "  </thead>\n",
       "  <tbody>\n",
       "    <tr>\n",
       "      <td>0</td>\n",
       "      <td>1</td>\n",
       "      <td>1</td>\n",
       "      <td>0</td>\n",
       "      <td>151315</td>\n",
       "      <td>44</td>\n",
       "      <td>1</td>\n",
       "      <td>0</td>\n",
       "      <td>0</td>\n",
       "    </tr>\n",
       "    <tr>\n",
       "      <td>1</td>\n",
       "      <td>1</td>\n",
       "      <td>2</td>\n",
       "      <td>0</td>\n",
       "      <td>151315</td>\n",
       "      <td>44</td>\n",
       "      <td>1</td>\n",
       "      <td>0</td>\n",
       "      <td>0</td>\n",
       "    </tr>\n",
       "    <tr>\n",
       "      <td>2</td>\n",
       "      <td>1</td>\n",
       "      <td>3</td>\n",
       "      <td>0</td>\n",
       "      <td>151315</td>\n",
       "      <td>44</td>\n",
       "      <td>1</td>\n",
       "      <td>0</td>\n",
       "      <td>0</td>\n",
       "    </tr>\n",
       "    <tr>\n",
       "      <td>3</td>\n",
       "      <td>1</td>\n",
       "      <td>4</td>\n",
       "      <td>0</td>\n",
       "      <td>151315</td>\n",
       "      <td>44</td>\n",
       "      <td>1</td>\n",
       "      <td>0</td>\n",
       "      <td>0</td>\n",
       "    </tr>\n",
       "    <tr>\n",
       "      <td>4</td>\n",
       "      <td>1</td>\n",
       "      <td>5</td>\n",
       "      <td>0</td>\n",
       "      <td>151315</td>\n",
       "      <td>44</td>\n",
       "      <td>1</td>\n",
       "      <td>0</td>\n",
       "      <td>0</td>\n",
       "    </tr>\n",
       "    <tr>\n",
       "      <td>...</td>\n",
       "      <td>...</td>\n",
       "      <td>...</td>\n",
       "      <td>...</td>\n",
       "      <td>...</td>\n",
       "      <td>...</td>\n",
       "      <td>...</td>\n",
       "      <td>...</td>\n",
       "      <td>...</td>\n",
       "    </tr>\n",
       "    <tr>\n",
       "      <td>115059</td>\n",
       "      <td>45</td>\n",
       "      <td>93</td>\n",
       "      <td>0</td>\n",
       "      <td>118221</td>\n",
       "      <td>30</td>\n",
       "      <td>0</td>\n",
       "      <td>1</td>\n",
       "      <td>0</td>\n",
       "    </tr>\n",
       "    <tr>\n",
       "      <td>115060</td>\n",
       "      <td>45</td>\n",
       "      <td>94</td>\n",
       "      <td>0</td>\n",
       "      <td>118221</td>\n",
       "      <td>30</td>\n",
       "      <td>0</td>\n",
       "      <td>1</td>\n",
       "      <td>0</td>\n",
       "    </tr>\n",
       "    <tr>\n",
       "      <td>115061</td>\n",
       "      <td>45</td>\n",
       "      <td>95</td>\n",
       "      <td>0</td>\n",
       "      <td>118221</td>\n",
       "      <td>30</td>\n",
       "      <td>0</td>\n",
       "      <td>1</td>\n",
       "      <td>0</td>\n",
       "    </tr>\n",
       "    <tr>\n",
       "      <td>115062</td>\n",
       "      <td>45</td>\n",
       "      <td>97</td>\n",
       "      <td>0</td>\n",
       "      <td>118221</td>\n",
       "      <td>30</td>\n",
       "      <td>0</td>\n",
       "      <td>1</td>\n",
       "      <td>0</td>\n",
       "    </tr>\n",
       "    <tr>\n",
       "      <td>115063</td>\n",
       "      <td>45</td>\n",
       "      <td>98</td>\n",
       "      <td>0</td>\n",
       "      <td>118221</td>\n",
       "      <td>30</td>\n",
       "      <td>0</td>\n",
       "      <td>1</td>\n",
       "      <td>0</td>\n",
       "    </tr>\n",
       "  </tbody>\n",
       "</table>\n",
       "<p>115064 rows × 8 columns</p>\n",
       "</div>"
      ],
      "text/plain": [
       "        Store  Dept  IsHoliday    Size  Week  Type_A  Type_B  Type_C\n",
       "0           1     1          0  151315    44       1       0       0\n",
       "1           1     2          0  151315    44       1       0       0\n",
       "2           1     3          0  151315    44       1       0       0\n",
       "3           1     4          0  151315    44       1       0       0\n",
       "4           1     5          0  151315    44       1       0       0\n",
       "...       ...   ...        ...     ...   ...     ...     ...     ...\n",
       "115059     45    93          0  118221    30       0       1       0\n",
       "115060     45    94          0  118221    30       0       1       0\n",
       "115061     45    95          0  118221    30       0       1       0\n",
       "115062     45    97          0  118221    30       0       1       0\n",
       "115063     45    98          0  118221    30       0       1       0\n",
       "\n",
       "[115064 rows x 8 columns]"
      ]
     },
     "execution_count": 45,
     "metadata": {},
     "output_type": "execute_result"
    }
   ],
   "source": [
    "X_test_final"
   ]
  },
  {
   "cell_type": "markdown",
   "metadata": {},
   "source": [
    "## final output stored in final_output.csv"
   ]
  },
  {
   "cell_type": "code",
   "execution_count": null,
   "metadata": {},
   "outputs": [],
   "source": []
  }
 ],
 "metadata": {
  "kernelspec": {
   "display_name": "Python 3",
   "language": "python",
   "name": "python3"
  },
  "language_info": {
   "codemirror_mode": {
    "name": "ipython",
    "version": 3
   },
   "file_extension": ".py",
   "mimetype": "text/x-python",
   "name": "python",
   "nbconvert_exporter": "python",
   "pygments_lexer": "ipython3",
   "version": "3.7.4"
  }
 },
 "nbformat": 4,
 "nbformat_minor": 4
}
